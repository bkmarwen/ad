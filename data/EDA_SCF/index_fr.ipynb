{
 "cells": [
  {
   "cell_type": "markdown",
   "metadata": {},
   "source": [
    "<font size=\"+3\"><strong>Exploring the Data</strong></font>"
   ]
  },
  {
   "attachments": {},
   "cell_type": "markdown",
   "metadata": {},
   "source": [
    "Dans ce projet, nous allons travailler avec des données de [Survey of Consumer Finances](https://www.federalreserve.gov/econres/scfindex.htm) (SCF). SCF est une enquête parrainée par la Réserve fédérale des États-Unis. Elle suit les informations financières, démographiques et d'opinion sur les familles aux États-Unis. L'enquête est menée tous les trois ans, et nous travaillerons avec un extrait des résultats de 2019."
   ]
  },
  {
   "cell_type": "markdown",
   "metadata": {},
   "source": [
    "# Prepare Data "
   ]
  },
  {
   "cell_type": "markdown",
   "metadata": {},
   "source": [
    "## Import"
   ]
  },
  {
   "cell_type": "code",
   "execution_count": 1,
   "metadata": {},
   "outputs": [],
   "source": [
    "\n",
    "import matplotlib.pyplot as plt\n",
    "import pandas as pd\n",
    "import seaborn as sns"
   ]
  },
  {
   "cell_type": "code",
   "execution_count": 3,
   "metadata": {},
   "outputs": [
    {
     "name": "stdout",
     "output_type": "stream",
     "text": [
      "df shape: (28885, 351)\n"
     ]
    },
    {
     "data": {
      "text/html": [
       "<div>\n",
       "<style scoped>\n",
       "    .dataframe tbody tr th:only-of-type {\n",
       "        vertical-align: middle;\n",
       "    }\n",
       "\n",
       "    .dataframe tbody tr th {\n",
       "        vertical-align: top;\n",
       "    }\n",
       "\n",
       "    .dataframe thead th {\n",
       "        text-align: right;\n",
       "    }\n",
       "</style>\n",
       "<table border=\"1\" class=\"dataframe\">\n",
       "  <thead>\n",
       "    <tr style=\"text-align: right;\">\n",
       "      <th></th>\n",
       "      <th>YY1</th>\n",
       "      <th>Y1</th>\n",
       "      <th>WGT</th>\n",
       "      <th>HHSEX</th>\n",
       "      <th>AGE</th>\n",
       "      <th>AGECL</th>\n",
       "      <th>EDUC</th>\n",
       "      <th>EDCL</th>\n",
       "      <th>MARRIED</th>\n",
       "      <th>KIDS</th>\n",
       "      <th>...</th>\n",
       "      <th>NWCAT</th>\n",
       "      <th>INCCAT</th>\n",
       "      <th>ASSETCAT</th>\n",
       "      <th>NINCCAT</th>\n",
       "      <th>NINC2CAT</th>\n",
       "      <th>NWPCTLECAT</th>\n",
       "      <th>INCPCTLECAT</th>\n",
       "      <th>NINCPCTLECAT</th>\n",
       "      <th>INCQRTCAT</th>\n",
       "      <th>NINCQRTCAT</th>\n",
       "    </tr>\n",
       "  </thead>\n",
       "  <tbody>\n",
       "    <tr>\n",
       "      <th>0</th>\n",
       "      <td>1</td>\n",
       "      <td>11</td>\n",
       "      <td>6119.779308</td>\n",
       "      <td>2</td>\n",
       "      <td>75</td>\n",
       "      <td>6</td>\n",
       "      <td>12</td>\n",
       "      <td>4</td>\n",
       "      <td>2</td>\n",
       "      <td>0</td>\n",
       "      <td>...</td>\n",
       "      <td>5</td>\n",
       "      <td>3</td>\n",
       "      <td>6</td>\n",
       "      <td>3</td>\n",
       "      <td>2</td>\n",
       "      <td>10</td>\n",
       "      <td>6</td>\n",
       "      <td>6</td>\n",
       "      <td>3</td>\n",
       "      <td>3</td>\n",
       "    </tr>\n",
       "    <tr>\n",
       "      <th>1</th>\n",
       "      <td>1</td>\n",
       "      <td>12</td>\n",
       "      <td>4712.374912</td>\n",
       "      <td>2</td>\n",
       "      <td>75</td>\n",
       "      <td>6</td>\n",
       "      <td>12</td>\n",
       "      <td>4</td>\n",
       "      <td>2</td>\n",
       "      <td>0</td>\n",
       "      <td>...</td>\n",
       "      <td>5</td>\n",
       "      <td>3</td>\n",
       "      <td>6</td>\n",
       "      <td>3</td>\n",
       "      <td>1</td>\n",
       "      <td>10</td>\n",
       "      <td>5</td>\n",
       "      <td>5</td>\n",
       "      <td>2</td>\n",
       "      <td>2</td>\n",
       "    </tr>\n",
       "    <tr>\n",
       "      <th>2</th>\n",
       "      <td>1</td>\n",
       "      <td>13</td>\n",
       "      <td>5145.224455</td>\n",
       "      <td>2</td>\n",
       "      <td>75</td>\n",
       "      <td>6</td>\n",
       "      <td>12</td>\n",
       "      <td>4</td>\n",
       "      <td>2</td>\n",
       "      <td>0</td>\n",
       "      <td>...</td>\n",
       "      <td>5</td>\n",
       "      <td>3</td>\n",
       "      <td>6</td>\n",
       "      <td>3</td>\n",
       "      <td>1</td>\n",
       "      <td>10</td>\n",
       "      <td>5</td>\n",
       "      <td>5</td>\n",
       "      <td>2</td>\n",
       "      <td>2</td>\n",
       "    </tr>\n",
       "    <tr>\n",
       "      <th>3</th>\n",
       "      <td>1</td>\n",
       "      <td>14</td>\n",
       "      <td>5297.663412</td>\n",
       "      <td>2</td>\n",
       "      <td>75</td>\n",
       "      <td>6</td>\n",
       "      <td>12</td>\n",
       "      <td>4</td>\n",
       "      <td>2</td>\n",
       "      <td>0</td>\n",
       "      <td>...</td>\n",
       "      <td>5</td>\n",
       "      <td>2</td>\n",
       "      <td>6</td>\n",
       "      <td>2</td>\n",
       "      <td>1</td>\n",
       "      <td>10</td>\n",
       "      <td>4</td>\n",
       "      <td>4</td>\n",
       "      <td>2</td>\n",
       "      <td>2</td>\n",
       "    </tr>\n",
       "    <tr>\n",
       "      <th>4</th>\n",
       "      <td>1</td>\n",
       "      <td>15</td>\n",
       "      <td>4761.812371</td>\n",
       "      <td>2</td>\n",
       "      <td>75</td>\n",
       "      <td>6</td>\n",
       "      <td>12</td>\n",
       "      <td>4</td>\n",
       "      <td>2</td>\n",
       "      <td>0</td>\n",
       "      <td>...</td>\n",
       "      <td>5</td>\n",
       "      <td>3</td>\n",
       "      <td>6</td>\n",
       "      <td>3</td>\n",
       "      <td>1</td>\n",
       "      <td>10</td>\n",
       "      <td>5</td>\n",
       "      <td>5</td>\n",
       "      <td>2</td>\n",
       "      <td>2</td>\n",
       "    </tr>\n",
       "  </tbody>\n",
       "</table>\n",
       "<p>5 rows × 351 columns</p>\n",
       "</div>"
      ],
      "text/plain": [
       "   YY1  Y1          WGT  HHSEX  AGE  AGECL  EDUC  EDCL  MARRIED  KIDS  ...  \\\n",
       "0    1  11  6119.779308      2   75      6    12     4        2     0  ...   \n",
       "1    1  12  4712.374912      2   75      6    12     4        2     0  ...   \n",
       "2    1  13  5145.224455      2   75      6    12     4        2     0  ...   \n",
       "3    1  14  5297.663412      2   75      6    12     4        2     0  ...   \n",
       "4    1  15  4761.812371      2   75      6    12     4        2     0  ...   \n",
       "\n",
       "   NWCAT  INCCAT  ASSETCAT  NINCCAT  NINC2CAT  NWPCTLECAT  INCPCTLECAT  \\\n",
       "0      5       3         6        3         2          10            6   \n",
       "1      5       3         6        3         1          10            5   \n",
       "2      5       3         6        3         1          10            5   \n",
       "3      5       2         6        2         1          10            4   \n",
       "4      5       3         6        3         1          10            5   \n",
       "\n",
       "   NINCPCTLECAT  INCQRTCAT  NINCQRTCAT  \n",
       "0             6          3           3  \n",
       "1             5          2           2  \n",
       "2             5          2           2  \n",
       "3             4          2           2  \n",
       "4             5          2           2  \n",
       "\n",
       "[5 rows x 351 columns]"
      ]
     },
     "execution_count": 3,
     "metadata": {},
     "output_type": "execute_result"
    }
   ],
   "source": [
    "df = pd.read_csv(\"SCFP2019.csv\")\n",
    "print(\"df shape:\", df.shape)\n",
    "df.head()"
   ]
  },
  {
   "attachments": {},
   "cell_type": "markdown",
   "metadata": {},
   "source": [
    "Une des premières choses que vous pourriez remarquer ici est que cet ensemble de données est ÉNORME - plus de 20 000 lignes et 351 colonnes ! TANT DE DONNÉES !!! Nous n'aurons pas le temps d'explorer toutes les fonctionnalités de cet ensemble de données, mais vous pouvez consulter le dictionnaire de données pour ce projet pour plus de détails et des liens vers le [Code Book](https://sda.berkeley.edu/sdaweb/docs/scfcomb2019/DOC/hcbk.htm). Pour l'instant, disons simplement que cet ensemble de données suit toutes sortes de comportements liés aux moyens par lesquels les ménages gagnent, économisent et dépensent de l'argent aux États-Unis.\n",
    "\n",
    "Pour ce projet, nous allons nous concentrer sur les ménages qui ont \"été refusés de crédit ou qui ont craint d'être refusés de crédit au cours des 5 dernières années\". Ces ménages sont identifiés dans la colonne \"TURNFEAR\"."
   ]
  },
  {
   "cell_type": "code",
   "execution_count": 4,
   "metadata": {},
   "outputs": [
    {
     "name": "stdout",
     "output_type": "stream",
     "text": [
      "df_fear shape: (4623, 351)\n"
     ]
    },
    {
     "data": {
      "text/html": [
       "<div>\n",
       "<style scoped>\n",
       "    .dataframe tbody tr th:only-of-type {\n",
       "        vertical-align: middle;\n",
       "    }\n",
       "\n",
       "    .dataframe tbody tr th {\n",
       "        vertical-align: top;\n",
       "    }\n",
       "\n",
       "    .dataframe thead th {\n",
       "        text-align: right;\n",
       "    }\n",
       "</style>\n",
       "<table border=\"1\" class=\"dataframe\">\n",
       "  <thead>\n",
       "    <tr style=\"text-align: right;\">\n",
       "      <th></th>\n",
       "      <th>YY1</th>\n",
       "      <th>Y1</th>\n",
       "      <th>WGT</th>\n",
       "      <th>HHSEX</th>\n",
       "      <th>AGE</th>\n",
       "      <th>AGECL</th>\n",
       "      <th>EDUC</th>\n",
       "      <th>EDCL</th>\n",
       "      <th>MARRIED</th>\n",
       "      <th>KIDS</th>\n",
       "      <th>...</th>\n",
       "      <th>NWCAT</th>\n",
       "      <th>INCCAT</th>\n",
       "      <th>ASSETCAT</th>\n",
       "      <th>NINCCAT</th>\n",
       "      <th>NINC2CAT</th>\n",
       "      <th>NWPCTLECAT</th>\n",
       "      <th>INCPCTLECAT</th>\n",
       "      <th>NINCPCTLECAT</th>\n",
       "      <th>INCQRTCAT</th>\n",
       "      <th>NINCQRTCAT</th>\n",
       "    </tr>\n",
       "  </thead>\n",
       "  <tbody>\n",
       "    <tr>\n",
       "      <th>5</th>\n",
       "      <td>2</td>\n",
       "      <td>21</td>\n",
       "      <td>3790.476607</td>\n",
       "      <td>1</td>\n",
       "      <td>50</td>\n",
       "      <td>3</td>\n",
       "      <td>8</td>\n",
       "      <td>2</td>\n",
       "      <td>1</td>\n",
       "      <td>3</td>\n",
       "      <td>...</td>\n",
       "      <td>1</td>\n",
       "      <td>2</td>\n",
       "      <td>1</td>\n",
       "      <td>2</td>\n",
       "      <td>1</td>\n",
       "      <td>1</td>\n",
       "      <td>4</td>\n",
       "      <td>4</td>\n",
       "      <td>2</td>\n",
       "      <td>2</td>\n",
       "    </tr>\n",
       "    <tr>\n",
       "      <th>6</th>\n",
       "      <td>2</td>\n",
       "      <td>22</td>\n",
       "      <td>3798.868505</td>\n",
       "      <td>1</td>\n",
       "      <td>50</td>\n",
       "      <td>3</td>\n",
       "      <td>8</td>\n",
       "      <td>2</td>\n",
       "      <td>1</td>\n",
       "      <td>3</td>\n",
       "      <td>...</td>\n",
       "      <td>1</td>\n",
       "      <td>2</td>\n",
       "      <td>1</td>\n",
       "      <td>2</td>\n",
       "      <td>1</td>\n",
       "      <td>1</td>\n",
       "      <td>4</td>\n",
       "      <td>3</td>\n",
       "      <td>2</td>\n",
       "      <td>2</td>\n",
       "    </tr>\n",
       "    <tr>\n",
       "      <th>7</th>\n",
       "      <td>2</td>\n",
       "      <td>23</td>\n",
       "      <td>3799.468393</td>\n",
       "      <td>1</td>\n",
       "      <td>50</td>\n",
       "      <td>3</td>\n",
       "      <td>8</td>\n",
       "      <td>2</td>\n",
       "      <td>1</td>\n",
       "      <td>3</td>\n",
       "      <td>...</td>\n",
       "      <td>1</td>\n",
       "      <td>2</td>\n",
       "      <td>1</td>\n",
       "      <td>2</td>\n",
       "      <td>1</td>\n",
       "      <td>1</td>\n",
       "      <td>4</td>\n",
       "      <td>4</td>\n",
       "      <td>2</td>\n",
       "      <td>2</td>\n",
       "    </tr>\n",
       "    <tr>\n",
       "      <th>8</th>\n",
       "      <td>2</td>\n",
       "      <td>24</td>\n",
       "      <td>3788.076005</td>\n",
       "      <td>1</td>\n",
       "      <td>50</td>\n",
       "      <td>3</td>\n",
       "      <td>8</td>\n",
       "      <td>2</td>\n",
       "      <td>1</td>\n",
       "      <td>3</td>\n",
       "      <td>...</td>\n",
       "      <td>1</td>\n",
       "      <td>2</td>\n",
       "      <td>1</td>\n",
       "      <td>2</td>\n",
       "      <td>1</td>\n",
       "      <td>1</td>\n",
       "      <td>4</td>\n",
       "      <td>4</td>\n",
       "      <td>2</td>\n",
       "      <td>2</td>\n",
       "    </tr>\n",
       "    <tr>\n",
       "      <th>9</th>\n",
       "      <td>2</td>\n",
       "      <td>25</td>\n",
       "      <td>3793.066589</td>\n",
       "      <td>1</td>\n",
       "      <td>50</td>\n",
       "      <td>3</td>\n",
       "      <td>8</td>\n",
       "      <td>2</td>\n",
       "      <td>1</td>\n",
       "      <td>3</td>\n",
       "      <td>...</td>\n",
       "      <td>1</td>\n",
       "      <td>2</td>\n",
       "      <td>1</td>\n",
       "      <td>2</td>\n",
       "      <td>1</td>\n",
       "      <td>1</td>\n",
       "      <td>4</td>\n",
       "      <td>4</td>\n",
       "      <td>2</td>\n",
       "      <td>2</td>\n",
       "    </tr>\n",
       "  </tbody>\n",
       "</table>\n",
       "<p>5 rows × 351 columns</p>\n",
       "</div>"
      ],
      "text/plain": [
       "   YY1  Y1          WGT  HHSEX  AGE  AGECL  EDUC  EDCL  MARRIED  KIDS  ...  \\\n",
       "5    2  21  3790.476607      1   50      3     8     2        1     3  ...   \n",
       "6    2  22  3798.868505      1   50      3     8     2        1     3  ...   \n",
       "7    2  23  3799.468393      1   50      3     8     2        1     3  ...   \n",
       "8    2  24  3788.076005      1   50      3     8     2        1     3  ...   \n",
       "9    2  25  3793.066589      1   50      3     8     2        1     3  ...   \n",
       "\n",
       "   NWCAT  INCCAT  ASSETCAT  NINCCAT  NINC2CAT  NWPCTLECAT  INCPCTLECAT  \\\n",
       "5      1       2         1        2         1           1            4   \n",
       "6      1       2         1        2         1           1            4   \n",
       "7      1       2         1        2         1           1            4   \n",
       "8      1       2         1        2         1           1            4   \n",
       "9      1       2         1        2         1           1            4   \n",
       "\n",
       "   NINCPCTLECAT  INCQRTCAT  NINCQRTCAT  \n",
       "5             4          2           2  \n",
       "6             3          2           2  \n",
       "7             4          2           2  \n",
       "8             4          2           2  \n",
       "9             4          2           2  \n",
       "\n",
       "[5 rows x 351 columns]"
      ]
     },
     "execution_count": 4,
     "metadata": {},
     "output_type": "execute_result"
    }
   ],
   "source": [
    "mask = df[\"TURNFEAR\"] == 1\n",
    "df_fear = df[mask]\n",
    "print(\"df_fear shape:\", df_fear.shape)\n",
    "df_fear.head()"
   ]
  },
  {
   "cell_type": "markdown",
   "metadata": {},
   "source": [
    "## Explore"
   ]
  },
  {
   "cell_type": "markdown",
   "metadata": {},
   "source": [
    "### Age"
   ]
  },
  {
   "cell_type": "code",
   "execution_count": 5,
   "metadata": {},
   "outputs": [
    {
     "name": "stdout",
     "output_type": "stream",
     "text": [
      "Age Groups: [3 5 1 2 4 6]\n"
     ]
    }
   ],
   "source": [
    "age_groups = df_fear[\"AGECL\"].unique()\n",
    "print(\"Age Groups:\", age_groups)"
   ]
  },
  {
   "cell_type": "code",
   "execution_count": 6,
   "metadata": {},
   "outputs": [
    {
     "data": {
      "text/plain": [
       "5    45-54\n",
       "6    45-54\n",
       "7    45-54\n",
       "8    45-54\n",
       "9    45-54\n",
       "Name: AGECL, dtype: object"
      ]
     },
     "execution_count": 6,
     "metadata": {},
     "output_type": "execute_result"
    }
   ],
   "source": [
    "agecl_dict = {\n",
    "    1: \"Under 35\",\n",
    "    2: \"35-44\",\n",
    "    3: \"45-54\",\n",
    "    4: \"55-64\",\n",
    "    5: \"65-74\",\n",
    "    6: \"75 or Older\",\n",
    "}\n",
    "\n",
    "age_cl = pd.Series(df_fear[\"AGECL\"].replace(agecl_dict))\n",
    "age_cl.head()"
   ]
  },
  {
   "cell_type": "code",
   "execution_count": 7,
   "metadata": {},
   "outputs": [
    {
     "data": {
      "image/png": "[encoded data removed]",
      "text/plain": [
       "<Figure size 640x480 with 1 Axes>"
      ]
     },
     "metadata": {},
     "output_type": "display_data"
    }
   ],
   "source": [
    "age_cl_value_counts = age_cl.value_counts()\n",
    "\n",
    "# Bar plot of `age_cl_value_counts`\n",
    "age_cl_value_counts.plot(kind=\"bar\")\n",
    "plt.xlabel(\"Age Group\")\n",
    "plt.ylabel(\"Frequency (count)\")\n",
    "plt.title(\"Credit Fearful : Age Groups\");"
   ]
  },
  {
   "attachments": {},
   "cell_type": "markdown",
   "metadata": {},
   "source": [
    "Vous avez peut-être remarqué que, en créant leurs propres groupes d'âge, les auteurs de l'enquête nous ont essentiellement fourni un histogramme composé de 6 bins. Notre graphique nous indique que de nombreuses personnes qui craignent d'être refusées de crédit sont plus jeunes. Mais les deux premiers groupes d'âge couvrent une plage plus large que les quatre autres. Il peut donc être utile de regarder à l'intérieur de ces valeurs pour avoir une compréhension plus granulaire des données.\n",
    "\n",
    "Pour cela, nous devrons regarder une autre variable : \"AGE\". Alors que \"AGECL\" était une variable catégorique, \"AGE\" est continue, nous pouvons donc l'utiliser pour créer un histogramme de notre propre."
   ]
  },
  {
   "cell_type": "code",
   "execution_count": 8,
   "metadata": {},
   "outputs": [
    {
     "data": {
      "image/png": "[encoded data removed]",
      "text/plain": [
       "<Figure size 640x480 with 1 Axes>"
      ]
     },
     "metadata": {},
     "output_type": "display_data"
    }
   ],
   "source": [
    "# Plot histogram of \"AGE\"\n",
    "plt.hist(df_fear[\"AGE\"], bins = 10)\n",
    "plt.xlabel(\"Age\")\n",
    "plt.ylabel(\"Frequency (count)\")\n",
    "plt.title(\"Credit Fearful : Age Distribution\");"
   ]
  },
  {
   "attachments": {},
   "cell_type": "markdown",
   "metadata": {},
   "source": [
    "Il semble que les jeunes soient encore plus préoccupés par la possibilité de obtenir un prêt que les personnes âgées, mais les personnes les plus préoccupées semblent être âgées entre 30 et 40 ans."
   ]
  },
  {
   "cell_type": "markdown",
   "metadata": {},
   "source": [
    "### Race"
   ]
  },
  {
   "cell_type": "code",
   "execution_count": 9,
   "metadata": {},
   "outputs": [
    {
     "data": {
      "image/png": "[encoded data removed]",
      "text/plain": [
       "<Figure size 640x480 with 1 Axes>"
      ]
     },
     "metadata": {},
     "output_type": "display_data"
    }
   ],
   "source": [
    "race_dict = {\n",
    "    1: \"White/Non-Hispanic\",\n",
    "    2: \"Black/African-American\",\n",
    "    3: \"Hispanic\",\n",
    "    5: \"Other\",\n",
    "}\n",
    "race = pd.Series(df_fear[\"RACE\"].replace(race_dict))\n",
    "race_value_counts = race.value_counts(normalize=True)\n",
    "# Create bar chart of race_value_counts\n",
    "race_value_counts.plot(kind=\"barh\")\n",
    "plt.xlim((0, 1))\n",
    "plt.xlabel(\"Frequency (%)\")\n",
    "plt.ylabel(\"Race\")\n",
    "plt.title(\"Credit Fearful: Racial Groups\");"
   ]
  },
  {
   "attachments": {},
   "cell_type": "markdown",
   "metadata": {},
   "source": [
    "Cela suggère que les personnes blanches/non hispaniques sont plus préoccupées par le fait d'être refusées de crédit, mais en réfléchissant critiquement à ce que nous voyons, cela pourrait être parce qu'il y a plus de personnes blanches/non hispaniques dans la population des États-Unis que d'autres groupes raciaux, et l'échantillon de cette enquête a été spécifiquement tiré pour être représentatif de la population dans son ensemble."
   ]
  },
  {
   "cell_type": "code",
   "execution_count": 10,
   "metadata": {},
   "outputs": [
    {
     "data": {
      "image/png": "[encoded data removed]",
      "text/plain": [
       "<Figure size 640x480 with 1 Axes>"
      ]
     },
     "metadata": {},
     "output_type": "display_data"
    }
   ],
   "source": [
    "race = pd.Series(df[\"RACE\"].replace(race_dict))\n",
    "race_value_counts = race.value_counts(normalize=True)\n",
    "# Create bar chart of race_value_counts\n",
    "race_value_counts.plot(kind=\"barh\")\n",
    "plt.xlim((0, 1))\n",
    "plt.xlabel(\"Frequency (%)\")\n",
    "plt.ylabel(\"Race\")\n",
    "plt.title(\"SCF Respondents: Racial Groups\");"
   ]
  },
  {
   "attachments": {},
   "cell_type": "markdown",
   "metadata": {},
   "source": [
    "Comment ce deuxième diagramme à barres modifie-t-il notre perception du premier ? D'une part, nous pouvons voir que les personnes blanches non hispaniques représentent environ 70% de l'ensemble des données, mais seulement 54% des répondants craintifs en matière de crédit. D'autre part, les répondants noirs et hispaniques représentent 23% de l'ensemble des données mais 40% des répondants craintifs en matière de crédit. En d'autres termes, les ménages noirs et hispaniques sont en fait plus susceptibles d'être dans le groupe craintif en matière de crédit."
   ]
  },
  {
   "cell_type": "markdown",
   "metadata": {},
   "source": [
    "### Income"
   ]
  },
  {
   "attachments": {},
   "cell_type": "markdown",
   "metadata": {},
   "source": [
    "Et pour le niveau de revenu ? Les personnes aux revenus plus bas sont-elles préoccupées par le fait d'être refusées de crédit, ou est-ce quelque chose qui préoccupe les personnes aux revenus plus élevés ? Pour répondre à cette question, nous devrons à nouveau comparer l'ensemble des données avec notre sous-groupe en utilisant la caractéristique \"INCCAT\", qui capture les groupes de centiles de revenu. Cette fois, cependant, nous allons créer un diagramme à barres côte à côte.\n",
    "\n"
   ]
  },
  {
   "cell_type": "code",
   "execution_count": 11,
   "metadata": {},
   "outputs": [
    {
     "data": {
      "text/html": [
       "<div>\n",
       "<style scoped>\n",
       "    .dataframe tbody tr th:only-of-type {\n",
       "        vertical-align: middle;\n",
       "    }\n",
       "\n",
       "    .dataframe tbody tr th {\n",
       "        vertical-align: top;\n",
       "    }\n",
       "\n",
       "    .dataframe thead th {\n",
       "        text-align: right;\n",
       "    }\n",
       "</style>\n",
       "<table border=\"1\" class=\"dataframe\">\n",
       "  <thead>\n",
       "    <tr style=\"text-align: right;\">\n",
       "      <th></th>\n",
       "      <th>TURNFEAR</th>\n",
       "      <th>INCCAT</th>\n",
       "      <th>frequency</th>\n",
       "    </tr>\n",
       "  </thead>\n",
       "  <tbody>\n",
       "    <tr>\n",
       "      <th>0</th>\n",
       "      <td>0</td>\n",
       "      <td>90-100</td>\n",
       "      <td>0.297296</td>\n",
       "    </tr>\n",
       "    <tr>\n",
       "      <th>1</th>\n",
       "      <td>0</td>\n",
       "      <td>60-79.9</td>\n",
       "      <td>0.174841</td>\n",
       "    </tr>\n",
       "    <tr>\n",
       "      <th>2</th>\n",
       "      <td>0</td>\n",
       "      <td>40-59.9</td>\n",
       "      <td>0.143146</td>\n",
       "    </tr>\n",
       "    <tr>\n",
       "      <th>3</th>\n",
       "      <td>0</td>\n",
       "      <td>0-20</td>\n",
       "      <td>0.140343</td>\n",
       "    </tr>\n",
       "    <tr>\n",
       "      <th>4</th>\n",
       "      <td>0</td>\n",
       "      <td>21-39.9</td>\n",
       "      <td>0.135933</td>\n",
       "    </tr>\n",
       "    <tr>\n",
       "      <th>5</th>\n",
       "      <td>0</td>\n",
       "      <td>80-89.9</td>\n",
       "      <td>0.108441</td>\n",
       "    </tr>\n",
       "    <tr>\n",
       "      <th>6</th>\n",
       "      <td>1</td>\n",
       "      <td>0-20</td>\n",
       "      <td>0.288125</td>\n",
       "    </tr>\n",
       "    <tr>\n",
       "      <th>7</th>\n",
       "      <td>1</td>\n",
       "      <td>21-39.9</td>\n",
       "      <td>0.256327</td>\n",
       "    </tr>\n",
       "    <tr>\n",
       "      <th>8</th>\n",
       "      <td>1</td>\n",
       "      <td>40-59.9</td>\n",
       "      <td>0.228856</td>\n",
       "    </tr>\n",
       "    <tr>\n",
       "      <th>9</th>\n",
       "      <td>1</td>\n",
       "      <td>60-79.9</td>\n",
       "      <td>0.132598</td>\n",
       "    </tr>\n",
       "    <tr>\n",
       "      <th>10</th>\n",
       "      <td>1</td>\n",
       "      <td>90-100</td>\n",
       "      <td>0.048886</td>\n",
       "    </tr>\n",
       "    <tr>\n",
       "      <th>11</th>\n",
       "      <td>1</td>\n",
       "      <td>80-89.9</td>\n",
       "      <td>0.045209</td>\n",
       "    </tr>\n",
       "  </tbody>\n",
       "</table>\n",
       "</div>"
      ],
      "text/plain": [
       "    TURNFEAR   INCCAT  frequency\n",
       "0          0   90-100   0.297296\n",
       "1          0  60-79.9   0.174841\n",
       "2          0  40-59.9   0.143146\n",
       "3          0     0-20   0.140343\n",
       "4          0  21-39.9   0.135933\n",
       "5          0  80-89.9   0.108441\n",
       "6          1     0-20   0.288125\n",
       "7          1  21-39.9   0.256327\n",
       "8          1  40-59.9   0.228856\n",
       "9          1  60-79.9   0.132598\n",
       "10         1   90-100   0.048886\n",
       "11         1  80-89.9   0.045209"
      ]
     },
     "execution_count": 11,
     "metadata": {},
     "output_type": "execute_result"
    }
   ],
   "source": [
    "inccat_dict = {\n",
    "    1: \"0-20\",\n",
    "    2: \"21-39.9\",\n",
    "    3: \"40-59.9\",\n",
    "    4: \"60-79.9\",\n",
    "    5: \"80-89.9\",\n",
    "    6: \"90-100\",\n",
    "}\n",
    "\n",
    "df_inccat = (\n",
    "    df[\"INCCAT\"]\n",
    "    .replace(inccat_dict)\n",
    "    .groupby(df[\"TURNFEAR\"])\n",
    "    .value_counts(normalize=True)\n",
    "    .rename(\"frequency\")\n",
    "    .to_frame()\n",
    "    .reset_index()\n",
    ")\n",
    "\n",
    "\n",
    "df_inccat"
   ]
  },
  {
   "cell_type": "code",
   "execution_count": 12,
   "metadata": {},
   "outputs": [
    {
     "data": {
      "image/png": "[encoded data removed]",
      "text/plain": [
       "<Figure size 640x480 with 1 Axes>"
      ]
     },
     "metadata": {},
     "output_type": "display_data"
    }
   ],
   "source": [
    "# Create bar chart of `df_inccat`\n",
    "sns.barplot(\n",
    "    x=\"INCCAT\",\n",
    "    y=\"frequency\",\n",
    "    hue = \"TURNFEAR\",\n",
    "    data=df_inccat,\n",
    "    order = inccat_dict.values()\n",
    ")\n",
    "plt.xlabel(\"Income Category\")\n",
    "plt.ylabel(\"Frequency (%)\")\n",
    "plt.title(\"Income Distribution: Credit Fearful vs. Non-fearful\");"
   ]
  },
  {
   "attachments": {},
   "cell_type": "markdown",
   "metadata": {},
   "source": [
    "En comparant les catégories de revenus entre les groupes craintifs et non craintifs, nous pouvons voir que les ménages craintifs en matière de crédit sont beaucoup plus courants dans les catégories de revenus les plus faibles. En d'autres termes, les craintifs en matière de crédit ont des revenus plus faibles."
   ]
  },
  {
   "attachments": {},
   "cell_type": "markdown",
   "metadata": {},
   "source": [
    "Donc, sur la base de tout cela, que savons-nous ? Parmi les personnes qui ont répondu qu'elles étaient effectivement inquiètes d'être approuvées pour un crédit après avoir été refusées au cours des cinq dernières années, une pluralité de jeunes et de personnes aux faibles revenus ont eu le plus grand nombre de répondants. Cela a du sens, non ? Les jeunes ont tendance à gagner moins d'argent et à dépendre davantage du crédit pour lancer leur vie, donc avoir été refusé de crédit les rend plus anxieux pour l'avenir."
   ]
  },
  {
   "cell_type": "markdown",
   "metadata": {},
   "source": [
    "### Assets"
   ]
  },
  {
   "cell_type": "code",
   "execution_count": 13,
   "metadata": {},
   "outputs": [
    {
     "name": "stdout",
     "output_type": "stream",
     "text": [
      "SCF: Asset Houses Correlation: 0.5198273544779252\n"
     ]
    }
   ],
   "source": [
    "asset_house_corr = df[\"ASSET\"].corr(df[\"HOUSES\"])\n",
    "print(\"SCF: Asset Houses Correlation:\", asset_house_corr)"
   ]
  },
  {
   "attachments": {},
   "cell_type": "markdown",
   "metadata": {},
   "source": [
    "C'est une corrélation modérément positive, que nous pourrions probablement attendre, non ? Pour de nombreux Américains, la valeur de leur résidence principale représente la plupart de la valeur de leurs actifs totaux. Et pour les personnes de notre sous-ensemble TURNFEAR ? Voyons si cette corrélation présente une différence."
   ]
  },
  {
   "cell_type": "code",
   "execution_count": 14,
   "metadata": {},
   "outputs": [
    {
     "name": "stdout",
     "output_type": "stream",
     "text": [
      "Credit Fearful: Asset Houses Correlation: 0.5832879735979152\n"
     ]
    }
   ],
   "source": [
    "asset_house_corr = df_fear[\"ASSET\"].corr(df_fear[\"HOUSES\"])\n",
    "print(\"Credit Fearful: Asset Houses Correlation:\", asset_house_corr)"
   ]
  },
  {
   "attachments": {},
   "cell_type": "markdown",
   "metadata": {},
   "source": [
    "Aha ! Elles sont différentes ! C'est toujours une corrélation modérément positive, mais la relation entre la valeur totale des actifs et la valeur de la résidence principale est plus forte pour notre groupe TURNFEAR que pour la population dans son ensemble.\n",
    "\n",
    "Faisons des matrices de corrélation en utilisant le reste des données pour df et df_fear et voyons si les différences persistent. Ici, nous ne regarderons que 5 caractéristiques : \"ASSET\", \"HOUSES\", \"INCOME\", \"DEBT\" et \"EDUC\"."
   ]
  },
  {
   "cell_type": "code",
   "execution_count": 15,
   "metadata": {},
   "outputs": [
    {
     "data": {
      "text/html": [
       "<style type=\"text/css\">\n",
       "#T_238d0_row0_col0, #T_238d0_row1_col1, #T_238d0_row2_col2, #T_238d0_row3_col3, #T_238d0_row4_col4 {\n",
       "  background-color: #023858;\n",
       "  color: #f1f1f1;\n",
       "}\n",
       "#T_238d0_row0_col1, #T_238d0_row1_col0 {\n",
       "  background-color: #76aad0;\n",
       "  color: #f1f1f1;\n",
       "}\n",
       "#T_238d0_row0_col2, #T_238d0_row2_col0 {\n",
       "  background-color: #4295c3;\n",
       "  color: #f1f1f1;\n",
       "}\n",
       "#T_238d0_row0_col3, #T_238d0_row3_col0 {\n",
       "  background-color: #d7d6e9;\n",
       "  color: #000000;\n",
       "}\n",
       "#T_238d0_row0_col4, #T_238d0_row2_col3, #T_238d0_row3_col2, #T_238d0_row4_col0 {\n",
       "  background-color: #f5eff6;\n",
       "  color: #000000;\n",
       "}\n",
       "#T_238d0_row1_col2, #T_238d0_row2_col1 {\n",
       "  background-color: #dad9ea;\n",
       "  color: #000000;\n",
       "}\n",
       "#T_238d0_row1_col3, #T_238d0_row3_col1 {\n",
       "  background-color: #d6d6e9;\n",
       "  color: #000000;\n",
       "}\n",
       "#T_238d0_row1_col4, #T_238d0_row4_col1 {\n",
       "  background-color: #ede7f2;\n",
       "  color: #000000;\n",
       "}\n",
       "#T_238d0_row2_col4, #T_238d0_row4_col2 {\n",
       "  background-color: #fdf5fa;\n",
       "  color: #000000;\n",
       "}\n",
       "#T_238d0_row3_col4, #T_238d0_row4_col3 {\n",
       "  background-color: #fff7fb;\n",
       "  color: #000000;\n",
       "}\n",
       "</style>\n",
       "<table id=\"T_238d0\">\n",
       "  <thead>\n",
       "    <tr>\n",
       "      <th class=\"blank level0\" >&nbsp;</th>\n",
       "      <th id=\"T_238d0_level0_col0\" class=\"col_heading level0 col0\" >ASSET</th>\n",
       "      <th id=\"T_238d0_level0_col1\" class=\"col_heading level0 col1\" >HOUSES</th>\n",
       "      <th id=\"T_238d0_level0_col2\" class=\"col_heading level0 col2\" >INCOME</th>\n",
       "      <th id=\"T_238d0_level0_col3\" class=\"col_heading level0 col3\" >DEBT</th>\n",
       "      <th id=\"T_238d0_level0_col4\" class=\"col_heading level0 col4\" >EDUC</th>\n",
       "    </tr>\n",
       "  </thead>\n",
       "  <tbody>\n",
       "    <tr>\n",
       "      <th id=\"T_238d0_level0_row0\" class=\"row_heading level0 row0\" >ASSET</th>\n",
       "      <td id=\"T_238d0_row0_col0\" class=\"data row0 col0\" >1.000000</td>\n",
       "      <td id=\"T_238d0_row0_col1\" class=\"data row0 col1\" >0.519827</td>\n",
       "      <td id=\"T_238d0_row0_col2\" class=\"data row0 col2\" >0.622429</td>\n",
       "      <td id=\"T_238d0_row0_col3\" class=\"data row0 col3\" >0.261250</td>\n",
       "      <td id=\"T_238d0_row0_col4\" class=\"data row0 col4\" >0.116673</td>\n",
       "    </tr>\n",
       "    <tr>\n",
       "      <th id=\"T_238d0_level0_row1\" class=\"row_heading level0 row1\" >HOUSES</th>\n",
       "      <td id=\"T_238d0_row1_col0\" class=\"data row1 col0\" >0.519827</td>\n",
       "      <td id=\"T_238d0_row1_col1\" class=\"data row1 col1\" >1.000000</td>\n",
       "      <td id=\"T_238d0_row1_col2\" class=\"data row1 col2\" >0.247852</td>\n",
       "      <td id=\"T_238d0_row1_col3\" class=\"data row1 col3\" >0.266661</td>\n",
       "      <td id=\"T_238d0_row1_col4\" class=\"data row1 col4\" >0.169300</td>\n",
       "    </tr>\n",
       "    <tr>\n",
       "      <th id=\"T_238d0_level0_row2\" class=\"row_heading level0 row2\" >INCOME</th>\n",
       "      <td id=\"T_238d0_row2_col0\" class=\"data row2 col0\" >0.622429</td>\n",
       "      <td id=\"T_238d0_row2_col1\" class=\"data row2 col1\" >0.247852</td>\n",
       "      <td id=\"T_238d0_row2_col2\" class=\"data row2 col2\" >1.000000</td>\n",
       "      <td id=\"T_238d0_row2_col3\" class=\"data row2 col3\" >0.114646</td>\n",
       "      <td id=\"T_238d0_row2_col4\" class=\"data row2 col4\" >0.069400</td>\n",
       "    </tr>\n",
       "    <tr>\n",
       "      <th id=\"T_238d0_level0_row3\" class=\"row_heading level0 row3\" >DEBT</th>\n",
       "      <td id=\"T_238d0_row3_col0\" class=\"data row3 col0\" >0.261250</td>\n",
       "      <td id=\"T_238d0_row3_col1\" class=\"data row3 col1\" >0.266661</td>\n",
       "      <td id=\"T_238d0_row3_col2\" class=\"data row3 col2\" >0.114646</td>\n",
       "      <td id=\"T_238d0_row3_col3\" class=\"data row3 col3\" >1.000000</td>\n",
       "      <td id=\"T_238d0_row3_col4\" class=\"data row3 col4\" >0.054179</td>\n",
       "    </tr>\n",
       "    <tr>\n",
       "      <th id=\"T_238d0_level0_row4\" class=\"row_heading level0 row4\" >EDUC</th>\n",
       "      <td id=\"T_238d0_row4_col0\" class=\"data row4 col0\" >0.116673</td>\n",
       "      <td id=\"T_238d0_row4_col1\" class=\"data row4 col1\" >0.169300</td>\n",
       "      <td id=\"T_238d0_row4_col2\" class=\"data row4 col2\" >0.069400</td>\n",
       "      <td id=\"T_238d0_row4_col3\" class=\"data row4 col3\" >0.054179</td>\n",
       "      <td id=\"T_238d0_row4_col4\" class=\"data row4 col4\" >1.000000</td>\n",
       "    </tr>\n",
       "  </tbody>\n",
       "</table>\n"
      ],
      "text/plain": [
       "<pandas.io.formats.style.Styler at 0x14c54934460>"
      ]
     },
     "execution_count": 15,
     "metadata": {},
     "output_type": "execute_result"
    }
   ],
   "source": [
    "cols = [\"ASSET\", \"HOUSES\", \"INCOME\", \"DEBT\", \"EDUC\"]\n",
    "corr = df[cols].corr()\n",
    "corr.style.background_gradient(axis=None)"
   ]
  },
  {
   "cell_type": "code",
   "execution_count": 16,
   "metadata": {},
   "outputs": [
    {
     "data": {
      "text/html": [
       "<style type=\"text/css\">\n",
       "#T_c1afa_row0_col0, #T_c1afa_row1_col1, #T_c1afa_row2_col2, #T_c1afa_row3_col3, #T_c1afa_row4_col4 {\n",
       "  background-color: #023858;\n",
       "  color: #f1f1f1;\n",
       "}\n",
       "#T_c1afa_row0_col1, #T_c1afa_row1_col0 {\n",
       "  background-color: #65a3cb;\n",
       "  color: #f1f1f1;\n",
       "}\n",
       "#T_c1afa_row0_col2, #T_c1afa_row2_col0 {\n",
       "  background-color: #1e80b8;\n",
       "  color: #f1f1f1;\n",
       "}\n",
       "#T_c1afa_row0_col3, #T_c1afa_row3_col0 {\n",
       "  background-color: #99b8d8;\n",
       "  color: #000000;\n",
       "}\n",
       "#T_c1afa_row0_col4, #T_c1afa_row4_col0 {\n",
       "  background-color: #fff7fb;\n",
       "  color: #000000;\n",
       "}\n",
       "#T_c1afa_row1_col2, #T_c1afa_row2_col1 {\n",
       "  background-color: #e2dfee;\n",
       "  color: #000000;\n",
       "}\n",
       "#T_c1afa_row1_col3, #T_c1afa_row3_col1 {\n",
       "  background-color: #034369;\n",
       "  color: #f1f1f1;\n",
       "}\n",
       "#T_c1afa_row1_col4, #T_c1afa_row4_col1 {\n",
       "  background-color: #f7f0f7;\n",
       "  color: #000000;\n",
       "}\n",
       "#T_c1afa_row2_col3, #T_c1afa_row3_col2 {\n",
       "  background-color: #f5eff6;\n",
       "  color: #000000;\n",
       "}\n",
       "#T_c1afa_row2_col4, #T_c1afa_row4_col2 {\n",
       "  background-color: #fcf4fa;\n",
       "  color: #000000;\n",
       "}\n",
       "#T_c1afa_row3_col4, #T_c1afa_row4_col3 {\n",
       "  background-color: #f4eef6;\n",
       "  color: #000000;\n",
       "}\n",
       "</style>\n",
       "<table id=\"T_c1afa\">\n",
       "  <thead>\n",
       "    <tr>\n",
       "      <th class=\"blank level0\" >&nbsp;</th>\n",
       "      <th id=\"T_c1afa_level0_col0\" class=\"col_heading level0 col0\" >ASSET</th>\n",
       "      <th id=\"T_c1afa_level0_col1\" class=\"col_heading level0 col1\" >HOUSES</th>\n",
       "      <th id=\"T_c1afa_level0_col2\" class=\"col_heading level0 col2\" >INCOME</th>\n",
       "      <th id=\"T_c1afa_level0_col3\" class=\"col_heading level0 col3\" >DEBT</th>\n",
       "      <th id=\"T_c1afa_level0_col4\" class=\"col_heading level0 col4\" >EDUC</th>\n",
       "    </tr>\n",
       "  </thead>\n",
       "  <tbody>\n",
       "    <tr>\n",
       "      <th id=\"T_c1afa_level0_row0\" class=\"row_heading level0 row0\" >ASSET</th>\n",
       "      <td id=\"T_c1afa_row0_col0\" class=\"data row0 col0\" >1.000000</td>\n",
       "      <td id=\"T_c1afa_row0_col1\" class=\"data row0 col1\" >0.583288</td>\n",
       "      <td id=\"T_c1afa_row0_col2\" class=\"data row0 col2\" >0.722074</td>\n",
       "      <td id=\"T_c1afa_row0_col3\" class=\"data row0 col3\" >0.474658</td>\n",
       "      <td id=\"T_c1afa_row0_col4\" class=\"data row0 col4\" >0.113536</td>\n",
       "    </tr>\n",
       "    <tr>\n",
       "      <th id=\"T_c1afa_level0_row1\" class=\"row_heading level0 row1\" >HOUSES</th>\n",
       "      <td id=\"T_c1afa_row1_col0\" class=\"data row1 col0\" >0.583288</td>\n",
       "      <td id=\"T_c1afa_row1_col1\" class=\"data row1 col1\" >1.000000</td>\n",
       "      <td id=\"T_c1afa_row1_col2\" class=\"data row1 col2\" >0.264099</td>\n",
       "      <td id=\"T_c1afa_row1_col3\" class=\"data row1 col3\" >0.962629</td>\n",
       "      <td id=\"T_c1afa_row1_col4\" class=\"data row1 col4\" >0.160348</td>\n",
       "    </tr>\n",
       "    <tr>\n",
       "      <th id=\"T_c1afa_level0_row2\" class=\"row_heading level0 row2\" >INCOME</th>\n",
       "      <td id=\"T_c1afa_row2_col0\" class=\"data row2 col0\" >0.722074</td>\n",
       "      <td id=\"T_c1afa_row2_col1\" class=\"data row2 col1\" >0.264099</td>\n",
       "      <td id=\"T_c1afa_row2_col2\" class=\"data row2 col2\" >1.000000</td>\n",
       "      <td id=\"T_c1afa_row2_col3\" class=\"data row2 col3\" >0.172393</td>\n",
       "      <td id=\"T_c1afa_row2_col4\" class=\"data row2 col4\" >0.133170</td>\n",
       "    </tr>\n",
       "    <tr>\n",
       "      <th id=\"T_c1afa_level0_row3\" class=\"row_heading level0 row3\" >DEBT</th>\n",
       "      <td id=\"T_c1afa_row3_col0\" class=\"data row3 col0\" >0.474658</td>\n",
       "      <td id=\"T_c1afa_row3_col1\" class=\"data row3 col1\" >0.962629</td>\n",
       "      <td id=\"T_c1afa_row3_col2\" class=\"data row3 col2\" >0.172393</td>\n",
       "      <td id=\"T_c1afa_row3_col3\" class=\"data row3 col3\" >1.000000</td>\n",
       "      <td id=\"T_c1afa_row3_col4\" class=\"data row3 col4\" >0.177386</td>\n",
       "    </tr>\n",
       "    <tr>\n",
       "      <th id=\"T_c1afa_level0_row4\" class=\"row_heading level0 row4\" >EDUC</th>\n",
       "      <td id=\"T_c1afa_row4_col0\" class=\"data row4 col0\" >0.113536</td>\n",
       "      <td id=\"T_c1afa_row4_col1\" class=\"data row4 col1\" >0.160348</td>\n",
       "      <td id=\"T_c1afa_row4_col2\" class=\"data row4 col2\" >0.133170</td>\n",
       "      <td id=\"T_c1afa_row4_col3\" class=\"data row4 col3\" >0.177386</td>\n",
       "      <td id=\"T_c1afa_row4_col4\" class=\"data row4 col4\" >1.000000</td>\n",
       "    </tr>\n",
       "  </tbody>\n",
       "</table>\n"
      ],
      "text/plain": [
       "<pandas.io.formats.style.Styler at 0x14c544cf250>"
      ]
     },
     "execution_count": 16,
     "metadata": {},
     "output_type": "execute_result"
    }
   ],
   "source": [
    "corr = df_fear[cols].corr()\n",
    "corr.style.background_gradient(axis=None)"
   ]
  },
  {
   "attachments": {},
   "cell_type": "markdown",
   "metadata": {},
   "source": [
    "Whoa ! Il y a ici de assez importantes différences ! La relation entre \"DEBT\" et \"HOUSES\" est positive pour les deux jeux de données, mais alors que le coefficient pour df est assez faible à 0,26, le même nombre pour df_fear est de 0,96.\n",
    "\n",
    "Rappelez-vous, plus le coefficient de corrélation est proche de 1,0, plus ils correspondent exactement. Dans ce cas, cela signifie que la valeur de la résidence principale et la dette totale détenue par le ménage sont très proches de la même valeur. Cela suggère que la principale source de dette supportée par notre groupe \"TURNFEAR\" est leur résidence principale, ce qui, encore une fois, est une trouvaille intuitive.\n",
    "\n",
    "\"DEBT\" et \"ASSET\" partagent une différence de manière similaire, tout comme \"EDUC\" et \"DEBT\", qui, bien que moins contrastée que les autres, est encore assez importante pour retenir l'attention de notre banquier hypothétique.\n",
    "\n",
    "Faisons des visualisations pour montrer graphiquement ces relations."
   ]
  },
  {
   "cell_type": "markdown",
   "metadata": {},
   "source": [
    "### Education"
   ]
  },
  {
   "cell_type": "code",
   "execution_count": 17,
   "metadata": {},
   "outputs": [
    {
     "data": {
      "text/html": [
       "<div>\n",
       "<style scoped>\n",
       "    .dataframe tbody tr th:only-of-type {\n",
       "        vertical-align: middle;\n",
       "    }\n",
       "\n",
       "    .dataframe tbody tr th {\n",
       "        vertical-align: top;\n",
       "    }\n",
       "\n",
       "    .dataframe thead th {\n",
       "        text-align: right;\n",
       "    }\n",
       "</style>\n",
       "<table border=\"1\" class=\"dataframe\">\n",
       "  <thead>\n",
       "    <tr style=\"text-align: right;\">\n",
       "      <th></th>\n",
       "      <th>TURNFEAR</th>\n",
       "      <th>EDUC</th>\n",
       "      <th>frequency</th>\n",
       "    </tr>\n",
       "  </thead>\n",
       "  <tbody>\n",
       "    <tr>\n",
       "      <th>0</th>\n",
       "      <td>0</td>\n",
       "      <td>12</td>\n",
       "      <td>0.257481</td>\n",
       "    </tr>\n",
       "    <tr>\n",
       "      <th>1</th>\n",
       "      <td>0</td>\n",
       "      <td>8</td>\n",
       "      <td>0.192029</td>\n",
       "    </tr>\n",
       "    <tr>\n",
       "      <th>2</th>\n",
       "      <td>0</td>\n",
       "      <td>13</td>\n",
       "      <td>0.149823</td>\n",
       "    </tr>\n",
       "    <tr>\n",
       "      <th>3</th>\n",
       "      <td>0</td>\n",
       "      <td>9</td>\n",
       "      <td>0.129833</td>\n",
       "    </tr>\n",
       "    <tr>\n",
       "      <th>4</th>\n",
       "      <td>0</td>\n",
       "      <td>14</td>\n",
       "      <td>0.096117</td>\n",
       "    </tr>\n",
       "  </tbody>\n",
       "</table>\n",
       "</div>"
      ],
      "text/plain": [
       "   TURNFEAR  EDUC  frequency\n",
       "0         0    12   0.257481\n",
       "1         0     8   0.192029\n",
       "2         0    13   0.149823\n",
       "3         0     9   0.129833\n",
       "4         0    14   0.096117"
      ]
     },
     "execution_count": 17,
     "metadata": {},
     "output_type": "execute_result"
    }
   ],
   "source": [
    "df_educ = (\n",
    "    df[\"EDUC\"]\n",
    "    .groupby(df[\"TURNFEAR\"])\n",
    "    .value_counts(normalize=True)\n",
    "    .rename(\"frequency\")\n",
    "    .to_frame()\n",
    "    .reset_index()\n",
    ")\n",
    "df_educ.head()"
   ]
  },
  {
   "cell_type": "code",
   "execution_count": 18,
   "metadata": {},
   "outputs": [
    {
     "data": {
      "image/png": "[encoded data removed]",
      "text/plain": [
       "<Figure size 640x480 with 1 Axes>"
      ]
     },
     "metadata": {},
     "output_type": "display_data"
    }
   ],
   "source": [
    "# Create bar chart of `df_educ`\n",
    "sns.barplot(\n",
    "    x=\"EDUC\",\n",
    "    y=\"frequency\",\n",
    "    hue = \"TURNFEAR\",\n",
    "    data=df_educ\n",
    ")\n",
    "plt.xlabel(\"Education Level\")\n",
    "plt.ylabel(\"Frequency (%)\")\n",
    "plt.title(\"Educational Attainment: Credit Fearful vs. Non-fearful\");"
   ]
  },
  {
   "attachments": {},
   "cell_type": "markdown",
   "metadata": {},
   "source": [
    "Dans ce graphique, nous pouvons voir qu'une proportion beaucoup plus élevée de répondants craintifs en matière de crédit n'ont qu'un diplôme d'études secondaires, tandis que les diplômes universitaires sont plus courants parmi les non craintifs en matière de crédit.\n",
    "\n",
    "\n",
    "\n",
    "\n"
   ]
  },
  {
   "cell_type": "markdown",
   "metadata": {},
   "source": [
    "### Debt"
   ]
  },
  {
   "cell_type": "code",
   "execution_count": 19,
   "metadata": {},
   "outputs": [
    {
     "data": {
      "image/png": "[encoded data removed]",
      "text/plain": [
       "<Figure size 640x480 with 1 Axes>"
      ]
     },
     "metadata": {},
     "output_type": "display_data"
    }
   ],
   "source": [
    "# Create scatter plot of ASSET vs DEBT, df\n",
    "df.plot(kind=\"scatter\", x=\"DEBT\", y=\"ASSET\");"
   ]
  },
  {
   "cell_type": "code",
   "execution_count": 20,
   "metadata": {},
   "outputs": [
    {
     "data": {
      "image/png": "[encoded data removed]",
      "text/plain": [
       "<Figure size 640x480 with 1 Axes>"
      ]
     },
     "metadata": {},
     "output_type": "display_data"
    }
   ],
   "source": [
    "# Create scatter plot of ASSET vs DEBT, df_fear\n",
    "df_fear.plot(kind=\"scatter\", x=\"DEBT\", y=\"ASSET\");"
   ]
  },
  {
   "attachments": {},
   "cell_type": "markdown",
   "metadata": {},
   "source": [
    "Vous pouvez voir que la relation dans notre graphique df_fear est plus plate que dans notre graphique df, mais elles sont clairement différentes."
   ]
  },
  {
   "cell_type": "code",
   "execution_count": 21,
   "metadata": {},
   "outputs": [
    {
     "data": {
      "image/png": "[encoded data removed]",
      "text/plain": [
       "<Figure size 640x480 with 1 Axes>"
      ]
     },
     "metadata": {},
     "output_type": "display_data"
    }
   ],
   "source": [
    "# Create scatter plot of HOUSES vs DEBT, df\n",
    "df.plot(kind=\"scatter\", x=\"DEBT\", y=\"HOUSES\");"
   ]
  },
  {
   "cell_type": "code",
   "execution_count": 22,
   "metadata": {},
   "outputs": [
    {
     "data": {
      "image/png": "[encoded data removed]",
      "text/plain": [
       "<Figure size 640x480 with 1 Axes>"
      ]
     },
     "metadata": {},
     "output_type": "display_data"
    }
   ],
   "source": [
    "# Create scatter plot of HOUSES vs DEBT, df_fear\n",
    "df_fear.plot(kind=\"scatter\", x=\"DEBT\", y=\"HOUSES\");"
   ]
  },
  {
   "attachments": {},
   "cell_type": "markdown",
   "metadata": {},
   "source": [
    "Les valeurs aberrantes rendent un peu difficile de voir la différence entre ces deux graphiques, mais la relation est assez claire : notre graphique df_fear montre une relation linéaire presque parfaite, tandis que notre graphique df montre quelque chose de un peu plus embrouillé. Vous pouvez également remarquer que les points de données sur le graphique df_fear forment plusieurs petits groupes. Ceux-ci sont appelés \"groupes\"."
   ]
  },
  {
   "cell_type": "code",
   "execution_count": null,
   "metadata": {},
   "outputs": [],
   "source": []
  }
 ],
 "metadata": {
  "kernelspec": {
   "display_name": "Python 3.9.13 ('base')",
   "language": "python",
   "name": "python3"
  },
  "language_info": {
   "codemirror_mode": {
    "name": "ipython",
    "version": 3
   },
   "file_extension": ".py",
   "mimetype": "text/x-python",
   "name": "python",
   "nbconvert_exporter": "python",
   "pygments_lexer": "ipython3",
   "version": "3.9.13"
  },
  "orig_nbformat": 4,
  "vscode": {
   "interpreter": {
    "hash": "9c1d5a056f04d97314a9f946bc8c5185004572d3d68312220c0ba298420421f7"
   }
  }
 },
 "nbformat": 4,
 "nbformat_minor": 2
}
